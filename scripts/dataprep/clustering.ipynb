{
 "cells": [
  {
   "cell_type": "code",
   "execution_count": 1,
   "metadata": {},
   "outputs": [],
   "source": [
    "# works with ct files from RNAStralign and ArchiveII -------------------------- ! ! ! !\n",
    "def straextractdot(db_file):\n",
    "    \n",
    "    with open(db_file, 'r') as file:\n",
    "        lines = file.readlines()\n",
    "    \n",
    "    sequence = lines[1].rstrip('\\n').upper()\n",
    "    length = len(sequence)\n",
    "    dot_bracket = lines[2].rstrip('\\n')\n",
    "    \n",
    "    return length, sequence, dot_bracket\n",
    "\n",
    "# works with dbn files from bpRNA-1m ----------------------------------------- ! ! ! !\n",
    "def dbextractdot(db_file):\n",
    "    \n",
    "    with open(db_file, 'r') as file:\n",
    "        lines = file.readlines()\n",
    "    \n",
    "    length = int(lines[1].split()[1].replace(\",\", \"\"))\n",
    "    sequence = lines[3].rstrip('\\n').upper()\n",
    "    dot_bracket = lines[4].rstrip('\\n')\n",
    "    \n",
    "    return length, sequence, dot_bracket"
   ]
  },
  {
   "cell_type": "code",
   "execution_count": 2,
   "metadata": {},
   "outputs": [
    {
     "name": "stdout",
     "output_type": "stream",
     "text": [
      "All done: 102318 instances enrolled!\n"
     ]
    }
   ],
   "source": [
    "data = []\n",
    "datacount = 0\n",
    "\n",
    "for root, dirs, files in os.walk('./bpRNA_1m/'):\n",
    "    for file in files:\n",
    "        if file.endswith('.dbn'):\n",
    "            datacount += 1\n",
    "            dbn_file = os.path.join(root, file)\n",
    "            length, sequence, dot_bracket = dbextractdot(dbn_file)\n",
    "            sample = {'GeneralID': 'G'+str(datacount).zfill(6), 'Length': length , 'Sequence': sequence, 'S_structure': dot_bracket, 'Dataset':'bpRNA-1m' , 'InternalID': file }\n",
    "            data.append(sample)\n",
    "\n",
    "print('All done:',datacount,'instances enrolled!')"
   ]
  },
  {
   "cell_type": "code",
   "execution_count": 3,
   "metadata": {},
   "outputs": [
    {
     "name": "stdout",
     "output_type": "stream",
     "text": [
      "All done: 143354 instances enrolled!\n"
     ]
    }
   ],
   "source": [
    "data = []\n",
    "datacount = 0\n",
    "\n",
    "for root, dirs, files in os.walk('./RNAStrAlign/'):\n",
    "    for file in files:\n",
    "        if file.endswith('.dbn'):\n",
    "            datacount += 1\n",
    "            dbn_file = os.path.join(root, file)\n",
    "            length, sequence, dot_bracket = straextractdot(dbn_file)\n",
    "            sample = {'GeneralID': 'G'+str(datacount).zfill(6), 'Length': length , 'Sequence': sequence, 'S_structure': dot_bracket, 'Dataset':'RNAStralign' , 'InternalID': file }\n",
    "            data.append(sample)\n",
    "\n",
    "for root, dirs, files in os.walk('./ArchiveII/'):\n",
    "    for file in files:\n",
    "        if file.endswith('.dbn'):\n",
    "            datacount += 1\n",
    "            dbn_file = os.path.join(root, file)\n",
    "            length, sequence, dot_bracket = straextractdot(dbn_file)\n",
    "            sample = {'GeneralID': 'G'+str(datacount).zfill(6), 'Length': length , 'Sequence': sequence, 'S_structure': dot_bracket, 'Dataset':'ArchiveII' , 'InternalID': file }\n",
    "            data.append(sample)\n",
    "\n",
    "for root, dirs, files in os.walk('./bpRNA_1m/'):\n",
    "    for file in files:\n",
    "        if file.endswith('.dbn'):\n",
    "            datacount += 1\n",
    "            dbn_file = os.path.join(root, file)\n",
    "            length, sequence, dot_bracket = dbextractdot(dbn_file)\n",
    "            sample = {'GeneralID': 'G'+str(datacount).zfill(6), 'Length': length , 'Sequence': sequence, 'S_structure': dot_bracket, 'Dataset':'bpRNA-1m' , 'InternalID': file }\n",
    "            data.append(sample)\n",
    "\n",
    "print('All done:',datacount,'instances enrolled!')\n"
   ]
  },
  {
   "cell_type": "code",
   "execution_count": 3,
   "metadata": {},
   "outputs": [],
   "source": [
    "import json\n",
    "\n",
    "with open(\"secstr.json\", \"w\") as file:\n",
    "    json.dump(data, file)"
   ]
  },
  {
   "cell_type": "code",
   "execution_count": 1,
   "metadata": {},
   "outputs": [],
   "source": [
    "import json\n",
    "\n",
    "with open(\"secstr.json\", \"r\") as file:\n",
    "    data = json.load(file)"
   ]
  },
  {
   "cell_type": "code",
   "execution_count": 13,
   "metadata": {},
   "outputs": [
    {
     "name": "stderr",
     "output_type": "stream",
     "text": [
      "100%|██████████| 119991/119991 [00:00<00:00, 4027647.58it/s]\n"
     ]
    },
    {
     "name": "stdout",
     "output_type": "stream",
     "text": [
      "Number of sequences with length above 1024 (and underneath 10): 1835\n"
     ]
    },
    {
     "name": "stderr",
     "output_type": "stream",
     "text": [
      "100%|██████████| 119991/119991 [00:00<00:00, 4499264.53it/s]"
     ]
    },
    {
     "name": "stdout",
     "output_type": "stream",
     "text": [
      "Number of sequences left in the dataset: 119991\n"
     ]
    },
    {
     "name": "stderr",
     "output_type": "stream",
     "text": [
      "\n"
     ]
    }
   ],
   "source": [
    "from tqdm import tqdm\n",
    "\n",
    "high_length = 1024\n",
    "count = 0\n",
    "for i in tqdm(data):\n",
    "    if (i['Length'] > high_length) or (i['Length'] < 20):\n",
    "        count += 1\n",
    "print(f\"Number of sequences with length above {high_length} (and underneath 10):\", count)\n",
    "\n",
    "#repeat until stabilize and count = 0 (dont know why..?)\n",
    "for i in tqdm(data):\n",
    "    if (i['Length'] > high_length) or (i['Length'] < 10):\n",
    "        data.remove(i)\n",
    "print(\"Number of sequences left in the dataset:\", len(data))"
   ]
  },
  {
   "cell_type": "code",
   "execution_count": 14,
   "metadata": {},
   "outputs": [
    {
     "name": "stderr",
     "output_type": "stream",
     "text": [
      "100%|██████████| 119991/119991 [00:00<00:00, 141364.12it/s]\n"
     ]
    },
    {
     "name": "stdout",
     "output_type": "stream",
     "text": [
      "Number of sequences with invalid characters: 3893\n",
      "Number of sequences left in the dataset: 116098\n"
     ]
    }
   ],
   "source": [
    "from tqdm import tqdm\n",
    "\n",
    "valid_chars = ['A', 'C', 'G', 'U']\n",
    "invalid_sequences = []\n",
    "count = 0\n",
    "for i in tqdm(data):\n",
    "    sequence = i['Sequence']\n",
    "    if any(char not in valid_chars for char in sequence):\n",
    "        count += 1\n",
    "        invalid_sequences.append(i)\n",
    "\n",
    "print(\"Number of sequences with invalid characters:\", count)\n",
    "\n",
    "for i in invalid_sequences:\n",
    "    data.remove(i)\n",
    "\n",
    "print(\"Number of sequences left in the dataset:\", len(data))"
   ]
  },
  {
   "cell_type": "code",
   "execution_count": 15,
   "metadata": {},
   "outputs": [
    {
     "name": "stdout",
     "output_type": "stream",
     "text": [
      "116093\n"
     ]
    }
   ],
   "source": [
    "codes = []\n",
    "for rna in data:\n",
    "    if (rna['Dataset'] == 'ArchiveII') or (rna['Dataset'] == 'RNAStralign'):\n",
    "        for char in rna['S_structure']:\n",
    "            if char in ['{', '}']:\n",
    "                if rna['GeneralID'] not in codes:\n",
    "                    codes.append(rna['GeneralID'])\n",
    "for rna in data:\n",
    "    if rna['GeneralID'] in codes:\n",
    "        data.remove(rna)\n",
    "        \n",
    "print(len(data))"
   ]
  },
  {
   "cell_type": "code",
   "execution_count": 16,
   "metadata": {},
   "outputs": [
    {
     "name": "stderr",
     "output_type": "stream",
     "text": [
      "100%|██████████| 116093/116093 [00:00<00:00, 237565.44it/s]\n"
     ]
    },
    {
     "name": "stdout",
     "output_type": "stream",
     "text": [
      "115692\n"
     ]
    }
   ],
   "source": [
    "# keep conventional dot-bracket: ., (, ), [, ], and remove level 2+ pseudoknots from bpRNA-1m \n",
    "from tqdm import tqdm\n",
    "\n",
    "to_remove = []\n",
    "\n",
    "for rna in tqdm(data):\n",
    "    if (rna['Dataset'] == 'RNAStralign') or (rna['Dataset'] == 'ArchiveII'):\n",
    "        rna['S_structure'] = rna['S_structure'].replace('<', '[').replace('>', ']')\n",
    "    elif rna['Dataset'] == 'bpRNA-1m':\n",
    "        for char in rna['S_structure']:\n",
    "            if char not in ['.', '(', ')', '[', ']']:\n",
    "                if rna['GeneralID'] not in to_remove:\n",
    "                    to_remove.append(rna['GeneralID'])\n",
    "for rna in data:\n",
    "    if rna['GeneralID'] in to_remove:\n",
    "        data.remove(rna)\n",
    "\n",
    "print(len(data))"
   ]
  },
  {
   "cell_type": "code",
   "execution_count": 17,
   "metadata": {},
   "outputs": [],
   "source": [
    "import json\n",
    "\n",
    "with open(\"secstr_1024_clean.json\", \"w\") as file:\n",
    "    json.dump(data, file)"
   ]
  },
  {
   "cell_type": "code",
   "execution_count": 18,
   "metadata": {},
   "outputs": [],
   "source": [
    "import json\n",
    "\n",
    "with open('./secstr_1024_clean.json', 'r') as file:\n",
    "    data = json.load(file)"
   ]
  },
  {
   "cell_type": "code",
   "execution_count": 2,
   "metadata": {},
   "outputs": [],
   "source": [
    "import json\n",
    "\n",
    "with open('../AvailableRNA/891.json', 'r') as file:\n",
    "    data = json.load(file)"
   ]
  },
  {
   "cell_type": "code",
   "execution_count": 21,
   "metadata": {},
   "outputs": [],
   "source": [
    "import subprocess\n",
    "import json\n",
    "import random\n",
    "\n",
    "def cluster_rna_sequences(json_file, threshold):\n",
    "    # Read the JSON file\n",
    "    with open(json_file, 'r') as file:\n",
    "        data = json.load(file)\n",
    "\n",
    "    # Prepare the input file for CD-HIT\n",
    "    sequences_file = 'sequences.fasta'\n",
    "    with open(sequences_file, 'w') as file:\n",
    "        for entry in data:\n",
    "            sequence = entry['Sequence']\n",
    "            external_id = entry['GeneralID']\n",
    "            file.write(f'>{external_id}\\n{sequence}\\n')\n",
    "\n",
    "    # Run CD-HIT to cluster the RNA sequences\n",
    "    output_file = 'cdhit_output'\n",
    "    \"\"\"\n",
    "   -i\tinput filename in fasta format, required, can be in .gz format\n",
    "   -j\tinput filename in fasta/fastq format for R2 reads if input are paired end (PE) files\n",
    " \t -i R1.fq -j R2.fq -o output_R1 -op output_R2 or\n",
    " \t -i R1.fa -j R2.fa -o output_R1 -op output_R2 \n",
    "   -o\toutput filename, required\n",
    "   -op\toutput filename for R2 reads if input are paired end (PE) files\n",
    "   -c\tsequence identity threshold, default 0.9\n",
    " \tthis is the default cd-hit's \"global sequence identity\" calculated as:\n",
    " \tnumber of identical amino acids or bases in alignment\n",
    " \tdivided by the full length of the shorter sequence\n",
    "   -G\tuse global sequence identity, default 1\n",
    " \tif set to 0, then use local sequence identity, calculated as :\n",
    " \tnumber of identical amino acids or bases in alignment\n",
    " \tdivided by the length of the alignment\n",
    " \tNOTE!!! don't use -G 0 unless you use alignment coverage controls\n",
    " \tsee options -aL, -AL, -aS, -AS\n",
    "   -b\tband_width of alignment, default 20\n",
    "   -M\tmemory limit (in MB) for the program, default 800; 0 for unlimitted;\n",
    "   -T\tnumber of threads, default 1; with 0, all CPUs will be used\n",
    "   -n\tword_length, default 10, see user's guide for choosing it\n",
    "   -l\tlength of throw_away_sequences, default 10\n",
    "   -d\tlength of description in .clstr file, default 20\n",
    " \tif set to 0, it takes the fasta defline and stops at first space\n",
    "   -s\tlength difference cutoff, default 0.0\n",
    " \tif set to 0.9, the shorter sequences need to be\n",
    " \tat least 90% length of the representative of the cluster\n",
    "   -S\tlength difference cutoff in amino acid, default 999999\n",
    " \tif set to 60, the length difference between the shorter sequences\n",
    " \tand the representative of the cluster can not be bigger than 60\n",
    "   -aL\talignment coverage for the longer sequence, default 0.0\n",
    " \tif set to 0.9, the alignment must covers 90% of the sequence\n",
    "   -AL\talignment coverage control for the longer sequence, default 99999999\n",
    " \tif set to 60, and the length of the sequence is 400,\n",
    " \tthen the alignment must be >= 340 (400-60) residues\n",
    "   -aS\talignment coverage for the shorter sequence, default 0.0\n",
    " \tif set to 0.9, the alignment must covers 90% of the sequence\n",
    "   -AS\talignment coverage control for the shorter sequence, default 99999999\n",
    " \tif set to 60, and the length of the sequence is 400,\n",
    " \tthen the alignment must be >= 340 (400-60) residues\n",
    "   -A\tminimal alignment coverage control for the both sequences, default 0\n",
    " \talignment must cover >= this value for both sequences \n",
    "   -uL\tmaximum unmatched percentage for the longer sequence, default 1.0\n",
    " \tif set to 0.1, the unmatched region (excluding leading and tailing gaps)\n",
    " \tmust not be more than 10% of the sequence\n",
    "   -uS\tmaximum unmatched percentage for the shorter sequence, default 1.0\n",
    " \tif set to 0.1, the unmatched region (excluding leading and tailing gaps)\n",
    " \tmust not be more than 10% of the sequence\n",
    "   -U\tmaximum unmatched length, default 99999999\n",
    " \tif set to 10, the unmatched region (excluding leading and tailing gaps)\n",
    " \tmust not be more than 10 bases\n",
    "   -B\t1 or 0, default 0, by default, sequences are stored in RAM\n",
    " \tif set to 1, sequence are stored on hard drive\n",
    " \t!! No longer supported !!\n",
    "   -P\tinput paired end (PE) reads, default 0, single file\n",
    " \tif set to 1, please use -i R1 -j R2 to input both PE files\n",
    "   -cx\tlength to keep after trimming the tail of sequence, default 0, not trimming\n",
    " \tif set to 50, the program only uses the first 50 letters of input sequence\n",
    "   -cy\tlength to keep after trimming the tail of R2 sequence, default 0, not trimming\n",
    " \tif set to 50, the program only uses the first 50 letters of input R2 sequence\n",
    " \te.g. -cx 100 -cy 80 for paired end reads\n",
    "   -ap\talignment position constrains,  default 0, no constrain\n",
    " \tif set to 1, the program will force sequences to align at beginings\n",
    " \twhen set to 1, the program only does +/+ alignment\n",
    "   -p\t1 or 0, default 0\n",
    " \tif set to 1, print alignment overlap in .clstr file\n",
    "   -g\t1 or 0, default 0\n",
    " \tby cd-hit's default algorithm, a sequence is clustered to the first \n",
    " \tcluster that meet the threshold (fast cluster). If set to 1, the program\n",
    " \twill cluster it into the most similar cluster that meet the threshold\n",
    " \t(accurate but slow mode)\n",
    " \tbut either 1 or 0 won't change the representatives of final clusters\n",
    "   -r\t1 or 0, default 1, by default do both +/+ & +/- alignments\n",
    " \tif set to 0, only +/+ strand alignment\n",
    "   -mask\tmasking letters (e.g. -mask NX, to mask out both 'N' and 'X')\n",
    "   -match\tmatching score, default 2 (1 for T-U and N-N)\n",
    "   -mismatch\tmismatching score, default -2\n",
    "   -gap\tgap opening score, default -6\n",
    "   -gap-ext\tgap extension score, default -1\n",
    "   -bak\twrite backup cluster file (1 or 0, default 0)\n",
    "   -sc\tsort clusters by size (number of sequences), default 0, output clusters by decreasing length\n",
    " \tif set to 1, output clusters by decreasing size\n",
    "   -sf\tsort fasta/fastq by cluster size (number of sequences), default 0, no sorting\n",
    " \tif set to 1, output sequences by decreasing cluster size\n",
    " \tthis can be very slow if the input is in .gz format\n",
    "   -h\tprint this help\n",
    "\n",
    "    \"\"\"\n",
    "    command = f'cd-hit-est -i {sequences_file} -o {output_file} -c {threshold} -g 1 -l 9 -s 1 -p 1 -T 0 '\n",
    "    subprocess.run(command, shell=True)\n",
    "\n",
    "    # Parse the CD-HIT output file to extract representative sequences\n",
    "    cluster_ids = ['delete..']\n",
    "    representatives = []\n",
    "    with open(output_file + '.clstr', 'r') as file:\n",
    "            for line in file:\n",
    "                line = line.strip()\n",
    "                if line.startswith('>Cluster'):\n",
    "                    representatives.append(random.choice(cluster_ids))  # Rnadom sequence in the cluster is the representative (varriety of lengths)\n",
    "                    cluster_ids = []\n",
    "                else:\n",
    "                    cluster_ids.append(line.split()[2].lstrip('>').rstrip('...'))\n",
    "\n",
    "    return representatives\n"
   ]
  },
  {
   "cell_type": "code",
   "execution_count": 22,
   "metadata": {},
   "outputs": [
    {
     "name": "stdout",
     "output_type": "stream",
     "text": [
      "================================================================\n",
      "Program: CD-HIT, V4.8.1, Mar 10 2023, 15:20:40\n",
      "Command: cd-hit-est -i sequences.fasta -o cdhit_output -c 0.8\n",
      "         -g 1 -l 9 -s 1 -p 1 -T 0\n",
      "\n",
      "Started: Mon Jun 10 15:07:45 2024\n",
      "================================================================\n",
      "                            Output                              \n",
      "----------------------------------------------------------------\n",
      "Option -T is ignored: multi-threading with OpenMP is NOT enabled!\n",
      "total seq: 115692\n",
      "longest and shortest : 1024 and 10\n",
      "Total letters: 16476699\n",
      "Sequences have been sorted\n",
      "\n",
      "Approximated minimal memory consumption:\n",
      "Sequence        : 30M\n",
      "Buffer          : 1 X 13M = 13M\n",
      "Table           : 1 X 18M = 18M\n",
      "Miscellaneous   : 5M\n",
      "Total           : 68M\n",
      "\n",
      "Table limit with the given memory limit:\n",
      "Max number of representatives: 2718939\n",
      "Max number of word counting entries: 91432496\n",
      "\n",
      "comparing sequences from          0  to     115692\n",
      "..........    10000  finished       3331  clusters\n",
      "..........    20000  finished       8175  clusters\n",
      "..........    30000  finished      11917  clusters\n",
      "..........    40000  finished      13573  clusters\n",
      "..........    50000  finished      17269  clusters\n",
      "..........    60000  finished      21935  clusters\n",
      "..........    70000  finished      23379  clusters\n",
      "..........    80000  finished      24413  clusters\n",
      "..........    90000  finished      25415  clusters\n",
      "..........   100000  finished      27607  clusters\n",
      "..........   110000  finished      29496  clusters\n",
      ".....\n",
      "   115692  finished      30256  clusters\n",
      "\n",
      "Approximated maximum memory consumption: 106M\n",
      "writing new database\n",
      "writing clustering information\n",
      "program completed !\n",
      "\n",
      "Total CPU time 18.16\n",
      "Representative sequences: 30256\n"
     ]
    }
   ],
   "source": [
    "json_file = './secstr_1024_clean.json'\n",
    "threshold = 0.80\n",
    "representatives = cluster_rna_sequences(json_file, threshold)\n",
    "\n",
    "print(\"Representative sequences:\",len(representatives))"
   ]
  },
  {
   "cell_type": "code",
   "execution_count": 23,
   "metadata": {},
   "outputs": [
    {
     "data": {
      "text/plain": [
       "30256"
      ]
     },
     "execution_count": 23,
     "metadata": {},
     "output_type": "execute_result"
    }
   ],
   "source": [
    "len(representatives)"
   ]
  },
  {
   "cell_type": "code",
   "execution_count": 24,
   "metadata": {},
   "outputs": [],
   "source": [
    "with open('./secstr_1024_clean.json', 'r') as file:\n",
    "    data = json.load(file)"
   ]
  },
  {
   "cell_type": "code",
   "execution_count": 33,
   "metadata": {},
   "outputs": [
    {
     "name": "stdout",
     "output_type": "stream",
     "text": [
      "Number of representatives in dataset: 30256 \n",
      "Left in dataset shoud be: 30255\n"
     ]
    },
    {
     "name": "stderr",
     "output_type": "stream",
     "text": [
      "100%|██████████| 30255/30255 [00:05<00:00, 5815.36it/s]"
     ]
    },
    {
     "name": "stdout",
     "output_type": "stream",
     "text": [
      "Number of sequences left in dataset: 30255\n"
     ]
    },
    {
     "name": "stderr",
     "output_type": "stream",
     "text": [
      "\n"
     ]
    }
   ],
   "source": [
    "from tqdm import tqdm\n",
    "print('Number of representatives in dataset:', len(representatives), '\\nLeft in dataset shoud be:', len(representatives)-1)\n",
    "\n",
    "# Keep repeating till result (-1) is reached .. (RAM needs)\n",
    "for i in tqdm(data):\n",
    "    if i['GeneralID'] not in representatives:\n",
    "        data.remove(i)\n",
    "\n",
    "print('Number of sequences left in dataset:', len(data))"
   ]
  },
  {
   "cell_type": "code",
   "execution_count": 34,
   "metadata": {},
   "outputs": [],
   "source": [
    "with open(\"2D_1024.json\", \"w\") as file:\n",
    "    json.dump(data, file)"
   ]
  },
  {
   "attachments": {},
   "cell_type": "markdown",
   "metadata": {},
   "source": [
    "DATASET PROPERTIES"
   ]
  },
  {
   "cell_type": "code",
   "execution_count": 4,
   "metadata": {},
   "outputs": [],
   "source": [
    "import json\n",
    "import matplotlib.pyplot as plt\n",
    "import seaborn as sns\n",
    "\n",
    "def plotlengths(jsonfile, title):\n",
    "    with open(jsonfile, 'r') as file:\n",
    "        data = json.load(file)\n",
    "\n",
    "    lengths = [entry['Length'] for entry in data]\n",
    "    sns.histplot(x=lengths, color='black', bins=100)\n",
    "    plt.xlabel('Sequence length')\n",
    "    plt.title(str(title))\n",
    "    plt.show()\n",
    "\n",
    "def plotdbs(jsonfile, title):\n",
    "    with open(jsonfile, 'r') as file:\n",
    "        data = json.load(file)\n",
    "\n",
    "    dbs = [entry['Dataset'] for entry in data]\n",
    "    counts = {}\n",
    "    for db in dbs:\n",
    "        counts[db] = counts.get(db, 0) + 1\n",
    "\n",
    "    plt.figure(figsize=(5, 5))\n",
    "    sns.barplot(x=list(counts.keys()), y=list(counts.values()), color='black')\n",
    "    plt.xlabel('Datasets')\n",
    "    plt.ylabel('Count')\n",
    "    plt.title(title)\n",
    "\n",
    "    plt.title(title)\n",
    "    plt.xticks(rotation=45, ha='right')  # Rotate x-axis labels for better readability\n",
    "    plt.tight_layout()  # Adjust spacing to prevent label cutoff\n",
    "    plt.show()"
   ]
  },
  {
   "cell_type": "code",
   "execution_count": 7,
   "metadata": {},
   "outputs": [
    {
     "data": {
      "image/png": "[encoded data removed]",
      "text/plain": [
       "<Figure size 640x480 with 1 Axes>"
      ]
     },
     "metadata": {},
     "output_type": "display_data"
    },
    {
     "data": {
      "image/png": "[encoded data removed]",
      "text/plain": [
       "<Figure size 640x480 with 1 Axes>"
      ]
     },
     "metadata": {},
     "output_type": "display_data"
    }
   ],
   "source": [
    "plotlengths('secstr.json', 'Distribution of sequence lengths in Original')\n",
    "plotlengths('redundants80_for_dnabert.json', 'Distribution of sequence lengths in Redundants-80')"
   ]
  },
  {
   "cell_type": "code",
   "execution_count": 179,
   "metadata": {},
   "outputs": [
    {
     "data": {
      "image/png": "[encoded data removed]",
      "text/plain": [
       "<Figure size 500x500 with 1 Axes>"
      ]
     },
     "metadata": {},
     "output_type": "display_data"
    },
    {
     "data": {
      "image/png": "[encoded data removed]",
      "text/plain": [
       "<Figure size 500x500 with 1 Axes>"
      ]
     },
     "metadata": {},
     "output_type": "display_data"
    }
   ],
   "source": [
    "plotdbs('secstr_clean.json', 'Dataset samples in Original')\n",
    "plotdbs('redundants95.json', 'Dataset samples in Redundants-95')"
   ]
  },
  {
   "attachments": {},
   "cell_type": "markdown",
   "metadata": {},
   "source": [
    "DELETE INDIPEDENT TEST SET"
   ]
  },
  {
   "cell_type": "code",
   "execution_count": 9,
   "metadata": {},
   "outputs": [],
   "source": [
    "import subprocess\n",
    "import json\n",
    "import random\n",
    "\n",
    "def find_testset(json_file, query_file, threshold):\n",
    "    # Read the JSON file\n",
    "    with open(json_file, 'r') as file:\n",
    "        data = json.load(file)\n",
    "\n",
    "    # Prepare the input file for CD-HIT\n",
    "    sequences_file = 'sequences.fasta'\n",
    "    with open(sequences_file, 'w') as file:\n",
    "        for entry in data:\n",
    "            sequence = entry['Sequence']\n",
    "            external_id = entry['GeneralID']\n",
    "            file.write(f'>{external_id}\\n{sequence}\\n')\n",
    "\n",
    "    # Run CD-HIT to cluster the RNA sequences\n",
    "    output_file = 'cdhit_output'\n",
    "    command = f'cd-hit-est-2D -i {sequences_file} -i2 {query_file} -o {output_file} -c {threshold} -g 1 -s 0.9 -p 1 -T 0'\n",
    "    subprocess.run(command, shell=True, check=True, stderr=subprocess.PIPE)"
   ]
  },
  {
   "cell_type": "code",
   "execution_count": 18,
   "metadata": {},
   "outputs": [
    {
     "name": "stdout",
     "output_type": "stream",
     "text": [
      "================================================================\n",
      "Program: CD-HIT, V4.8.1, Mar 10 2023, 15:20:40\n",
      "Command: cd-hit-est-2D -i sequences.fasta -i2 36.fasta -o\n",
      "         cdhit_output -c 0.8 -g 1 -s 0.9 -p 1 -T 0\n",
      "\n",
      "Started: Thu Jun 27 17:09:32 2024\n",
      "================================================================\n",
      "                            Output                              \n",
      "----------------------------------------------------------------\n",
      "Option -T is ignored: multi-threading with OpenMP is NOT enabled!\n",
      "total seq in db1: 889\n",
      "total seq in db2: 36\n",
      "longest and shortest : 414 and 11\n",
      "Total letters: 57101\n",
      "Sequences have been sorted\n",
      "longest and shortest : 94 and 13\n",
      "Total letters: 1609\n",
      "\n",
      "Approximated minimal memory consumption:\n",
      "Sequence        : 0M\n",
      "Buffer          : 1 X 12M = 12M\n",
      "Table           : 1 X 16M = 16M\n",
      "Miscellaneous   : 4M\n",
      "Total           : 33M\n",
      "\n",
      "Table limit with the given memory limit:\n",
      "Max number of representatives: 4000000\n",
      "Max number of word counting entries: 95858657\n",
      "\n",
      "..........        0  compared          0  clusters\n",
      "\n",
      "36 compared\t18 clustered\n",
      "writing non-redundant sequences from db2\n",
      "writing clustering information\n",
      "program completed !\n",
      "\n",
      "Total CPU time 0.04\n"
     ]
    }
   ],
   "source": [
    "commons = find_testset('./891.json', '36.fasta', 0.80)"
   ]
  },
  {
   "cell_type": "code",
   "execution_count": 17,
   "metadata": {},
   "outputs": [
    {
     "name": "stdout",
     "output_type": "stream",
     "text": [
      "None\n"
     ]
    }
   ],
   "source": [
    "print(commons)"
   ]
  },
  {
   "cell_type": "code",
   "execution_count": 11,
   "metadata": {},
   "outputs": [
    {
     "name": "stdout",
     "output_type": "stream",
     "text": [
      "['7shx_1.ent', '7SHX']\n",
      "['7uri_1.ent', '7UR5']\n",
      "['7uz0.ent', '7UQ6']\n",
      "['2hoo.ent', '8F4O']\n",
      "['8fcs_11.ent', '8FCS']\n",
      "['7umc_10.ent', '7UMC']\n",
      "['7kub_8.ent', '7KUB']\n",
      "['7v06_3.ent', '7V06']\n",
      "['7umd_3.ent', '7UMD']\n",
      "['7rwr_10.ent', '7RWR']\n",
      "['8d28_B.ent', '8D28']\n",
      "['1anr_12.ent', '8THV']\n",
      "['7ume_2.ent', '7UME']\n",
      "['1q9a.ent', '7UCR']\n",
      "['7mkt.ent', '7MKT']\n",
      "['7q48_16.ent', '7Q48']\n",
      "['7kuc_1.ent', '7KUC']\n",
      "['7kud_8.ent', '7KUD']\n"
     ]
    }
   ],
   "source": [
    "cluster_ids = ['delete..']\n",
    "representatives = []\n",
    "with open('cdhit_output' + '.clstr', 'r') as file:\n",
    "    for line in file:\n",
    "        line = line.strip()\n",
    "        if line.startswith('>Cluster'):\n",
    "            representatives.append(cluster_ids)\n",
    "            cluster_ids = []\n",
    "        else:\n",
    "            cluster_ids.append(line.split()[2].lstrip('>').rstrip('...'))\n",
    "\n",
    "to_delete = []\n",
    "for entry in representatives:\n",
    "    if len(entry) > 1:\n",
    "        to_delete.append(entry[0])\n",
    "        print(entry)"
   ]
  },
  {
   "cell_type": "code",
   "execution_count": 38,
   "metadata": {},
   "outputs": [],
   "source": [
    "with open('./2D_1024.json', 'r') as file:\n",
    "    data = json.load(file)\n",
    "\n",
    "initial = len(data)"
   ]
  },
  {
   "cell_type": "code",
   "execution_count": 40,
   "metadata": {},
   "outputs": [
    {
     "name": "stdout",
     "output_type": "stream",
     "text": [
      "Initial dataset: 30255 \n",
      "Left in dataset shoud be: 30252\n"
     ]
    },
    {
     "name": "stderr",
     "output_type": "stream",
     "text": [
      "100%|██████████| 30252/30252 [00:00<00:00, 2162229.00it/s]"
     ]
    },
    {
     "name": "stdout",
     "output_type": "stream",
     "text": [
      "Number of sequences left in dataset: 30252\n"
     ]
    },
    {
     "name": "stderr",
     "output_type": "stream",
     "text": [
      "\n"
     ]
    }
   ],
   "source": [
    "from tqdm import tqdm\n",
    "\n",
    "print('Initial dataset:', initial, '\\nLeft in dataset shoud be:', initial-len(to_delete))\n",
    "\n",
    "# Keep repeating till result (-1) is reached .. (RAM needs)\n",
    "for i in tqdm(data):\n",
    "    if i['GeneralID'] in to_delete:\n",
    "        data.remove(i)\n",
    "\n",
    "print('Number of sequences left in dataset:', len(data))"
   ]
  },
  {
   "cell_type": "code",
   "execution_count": 178,
   "metadata": {},
   "outputs": [],
   "source": [
    "import json\n",
    "\n",
    "with open(\"2D_1024_clean.json\", \"w\") as file:\n",
    "    json.dump(data, file)"
   ]
  },
  {
   "cell_type": "code",
   "execution_count": null,
   "metadata": {},
   "outputs": [],
   "source": []
  },
  {
   "cell_type": "code",
   "execution_count": 3,
   "metadata": {},
   "outputs": [],
   "source": [
    "import csv\n",
    "import matplotlib.pyplot as plt\n",
    "\n",
    "def plotlengths(csvfile, title):\n",
    "    with open(csvfile, 'r') as file:\n",
    "        reader = csv.DictReader(file, delimiter=';')\n",
    "        data = list(reader)\n",
    "\n",
    "    lengths = [int(entry['Length']) for entry in data]\n",
    "    indices = range(len(lengths))\n",
    "\n",
    "    plt.scatter(x=lengths, y=indices, color='black')\n",
    "    plt.xlabel('Sequence length')\n",
    "    plt.ylabel('Index')\n",
    "    plt.title(str(title))\n",
    "    plt.show()\n"
   ]
  },
  {
   "cell_type": "code",
   "execution_count": 6,
   "metadata": {},
   "outputs": [
    {
     "data": {
      "image/png": "[encoded data removed]",
      "text/plain": [
       "<Figure size 640x480 with 1 Axes>"
      ]
     },
     "metadata": {},
     "output_type": "display_data"
    }
   ],
   "source": [
    "plotlengths('../Benchmark/testset.csv', 'Distribution of sequence lengths in indipendent testset')"
   ]
  },
  {
   "cell_type": "code",
   "execution_count": null,
   "metadata": {},
   "outputs": [],
   "source": [
    "import os\n",
    "from Bio.PDB import PDBParser\n",
    "from Bio import SeqIO\n",
    "from tqdm import tqdm\n",
    "\n",
    "def pdb_to_fasta(directory_path, output_directory, fastaname):\n",
    "    result = []\n",
    "    seen_filenames = set()\n",
    "    for filename in tqdm(os.listdir(directory_path)):\n",
    "        if filename.endswith(\".ent\"):\n",
    "            parser = PDBParser()\n",
    "            structure = parser.get_structure(filename, os.path.join(directory_path, filename))\n",
    "            for model in structure:\n",
    "                for chain in model:\n",
    "                    seq = \"\"\n",
    "                    for residue in chain:\n",
    "                        res_id = residue.get_id()\n",
    "                        if res_id[0] == \" \":\n",
    "                            seq += residue.get_resname().strip()\n",
    "                    if filename not in seen_filenames:\n",
    "                        seen_filenames.add(filename)\n",
    "                        header = \">\" + filename[3:] + \" \" + str(len(seq)) + \"\\n\"\n",
    "                        result.append(header + seq + \"\\n\")\n",
    "    result.sort()\n",
    "    fasta_output = \"\".join(result)\n",
    "    with open(os.path.join(output_directory, str(fastaname)), \"w\") as outfile:\n",
    "        outfile.write(fasta_output)\n",
    "    print(\"Fasta file genereted. OK\")\n",
    "\n",
    "pdb_to_fasta('./indepedents/', './', 'indepedents.fasta')\n"
   ]
  },
  {
   "cell_type": "code",
   "execution_count": 1,
   "metadata": {},
   "outputs": [],
   "source": [
    "# Make json for independent testset\n",
    "import json\n",
    "from Bio import SeqIO\n",
    "\n",
    "data = []\n",
    "datacount = 0\n",
    "\n",
    "fasta_file = \"./indepedents.fasta\"\n",
    "\n",
    "for record in SeqIO.parse(fasta_file, \"fasta\"):\n",
    "    datacount += 1\n",
    "    code = record.id\n",
    "    seq_and_dbn = str(record.seq).split(\"D\") # D is a label / mark I put manually...\n",
    "    sequence = seq_and_dbn[0]\n",
    "    dbn = seq_and_dbn[1]\n",
    "    sample = {'GeneralID': 'G' + str(datacount).zfill(2),\n",
    "              'Sequence': sequence,\n",
    "              'Length': len(sequence),\n",
    "              'S_structure': dbn,\n",
    "              'Dataset': 'independents',\n",
    "              'InternalID': code[0:4].upper()}\n",
    "    data.append(sample)\n",
    "\n",
    "with open(\"indepedents.json\", \"w\") as file:\n",
    "    json.dump(data, file)"
   ]
  },
  {
   "attachments": {},
   "cell_type": "markdown",
   "metadata": {},
   "source": [
    "CONVERT DOTBRACKET TO LABELS FOR MULTI-CLASS CLASSIFICATION"
   ]
  },
  {
   "cell_type": "code",
   "execution_count": 17,
   "metadata": {},
   "outputs": [],
   "source": [
    "import json \n",
    "\n",
    "with open('./redundants80_clean.json', 'r') as file:\n",
    "    data = json.load(file)"
   ]
  },
  {
   "cell_type": "code",
   "execution_count": 21,
   "metadata": {},
   "outputs": [
    {
     "name": "stderr",
     "output_type": "stream",
     "text": [
      "100%|██████████| 5235/5235 [00:00<00:00, 758032.92it/s]\n"
     ]
    }
   ],
   "source": [
    "from tqdm import tqdm\n",
    "\n",
    "for rna in tqdm(data):\n",
    "    label = rna['S_structure'].replace('.', '0').replace('(', '1').replace(')', '2').replace('[', '3').replace(']', '4')\n",
    "    rna['Labels'] = label"
   ]
  },
  {
   "cell_type": "code",
   "execution_count": 22,
   "metadata": {},
   "outputs": [],
   "source": [
    "import json\n",
    "\n",
    "with open(\"redundants80_labels.json\", \"w\") as file:\n",
    "    json.dump(data, file)"
   ]
  },
  {
   "cell_type": "code",
   "execution_count": null,
   "metadata": {},
   "outputs": [],
   "source": []
  },
  {
   "cell_type": "code",
   "execution_count": null,
   "metadata": {},
   "outputs": [],
   "source": []
  },
  {
   "cell_type": "code",
   "execution_count": 6,
   "metadata": {},
   "outputs": [
    {
     "name": "stdout",
     "output_type": "stream",
     "text": [
      "Total number of sequences: 16763\n",
      "Total number of bases: 2217379\n",
      "Total number of pairs: 4916769629641\n",
      "0: 49167696295.46\n"
     ]
    }
   ],
   "source": [
    "import json \n",
    "\n",
    "with open('./redundants80_for_dnabert_clean.json', 'r') as file:\n",
    "    rnas = json.load(file)\n",
    "\n",
    "all_bases = 0\n",
    "count = 0 \n",
    "for rna in rnas:\n",
    "    count += 1\n",
    "    all_bases += rna['Length']\n",
    "\n",
    "print(\"Total number of sequences:\", count)\n",
    "print(\"Total number of bases:\", all_bases)\n",
    "\n",
    "pairs = all_bases * all_bases\n",
    "print(\"Total number of pairs:\", pairs)\n",
    "\n",
    "print('0:', (pairs - 95)/100)\n",
    "\n",
    "    "
   ]
  }
 ],
 "metadata": {
  "kernelspec": {
   "display_name": "DNABERT",
   "language": "python",
   "name": "python3"
  },
  "language_info": {
   "codemirror_mode": {
    "name": "ipython",
    "version": 3
   },
   "file_extension": ".py",
   "mimetype": "text/x-python",
   "name": "python",
   "nbconvert_exporter": "python",
   "pygments_lexer": "ipython3",
   "version": "3.8.16 | packaged by conda-forge | (default, Feb  1 2023, 16:01:13) \n[Clang 14.0.6 ]"
  },
  "orig_nbformat": 4,
  "vscode": {
   "interpreter": {
    "hash": "be172615c1b1d4d8aeff52184c7217575658a890345b2f7a717e9546b7bd1790"
   }
  }
 },
 "nbformat": 4,
 "nbformat_minor": 2
}
